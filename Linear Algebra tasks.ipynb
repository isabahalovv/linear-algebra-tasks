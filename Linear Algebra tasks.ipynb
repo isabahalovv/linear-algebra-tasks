{
 "cells": [
  {
   "cell_type": "markdown",
   "id": "9ef861a5",
   "metadata": {},
   "source": [
    "### Task 1 : Write a function which requires a matrix with arbitrary size and checks existence of being an orthogonal matrix made by elements of original matrix."
   ]
  },
  {
   "cell_type": "markdown",
   "id": "fef321ac",
   "metadata": {
    "id": "yQju71O5429v"
   },
   "source": [
    "\n",
    "\n",
    "**Input :** \\begin{vmatrix}\n",
    "3 & 1 & 0\\\\\n",
    "0 & 0 & 1 \\\\\n",
    "0 & 4 & 3 \\\\\n",
    "1 & 0 & 0\n",
    "\\end{vmatrix}\n",
    "\n",
    "**Output:** \n",
    "\n",
    "**True**\n",
    "\\begin{vmatrix}\n",
    "1 & 0 & 0\\\\\n",
    "0 & 1 & 0 \\\\\n",
    "0 & 0 & 1 \n",
    "\\end{vmatrix}"
   ]
  },
  {
   "cell_type": "code",
   "execution_count": null,
   "id": "f5b3e197",
   "metadata": {},
   "outputs": [],
   "source": [
    "import numpy as np"
   ]
  },
  {
   "cell_type": "code",
   "execution_count": null,
   "id": "3bd52c39",
   "metadata": {},
   "outputs": [],
   "source": [
    "A = np.array([[3,1,0],\n",
    "              [0,0,1],\n",
    "              [0,4,3],\n",
    "              [1,0,0]])"
   ]
  },
  {
   "cell_type": "code",
   "execution_count": null,
   "id": "7f32c247",
   "metadata": {},
   "outputs": [],
   "source": [
    "def is_ortho(matrix):\n",
    "    try:\n",
    "        if (inv(matrix) == np.transpose(matrix)).all():\n",
    "            return True\n",
    "        else:\n",
    "            return False\n",
    "        \n",
    "    except:\n",
    "        pass"
   ]
  },
  {
   "cell_type": "code",
   "execution_count": null,
   "id": "105a8527",
   "metadata": {},
   "outputs": [],
   "source": [
    "def checking_having_symmetric(matrix):\n",
    "    b = matrix.reshape(1,matrix.size)\n",
    "    b = np.ravel(b)\n",
    "    \n",
    "        \n",
    "    for period in range(100):\n",
    "        mat = np.random.choice(b, size=(2,2))\n",
    "    \n",
    "        if (is_ortho(mat)):\n",
    "            print(\"Yes\")\n",
    "            return mat\n",
    "        else:\n",
    "            continue"
   ]
  },
  {
   "cell_type": "code",
   "execution_count": null,
   "id": "e2111c96",
   "metadata": {
    "scrolled": true
   },
   "outputs": [],
   "source": [
    "checking_having_symmetric(A)"
   ]
  },
  {
   "cell_type": "markdown",
   "id": "8f32cf2b",
   "metadata": {},
   "source": [
    "## =================================================="
   ]
  },
  {
   "cell_type": "markdown",
   "id": "9918c19a",
   "metadata": {},
   "source": [
    "### Task 2 : Write a function which accepts a matrix as input with any size (3x3 or more) and should check existence of symmetric matrix of a matrix which has been made using elements of original matrix with the size of 3x3. Then it should return that symmetric matrix as final result"
   ]
  },
  {
   "cell_type": "code",
   "execution_count": null,
   "id": "49a8e7b9",
   "metadata": {},
   "outputs": [],
   "source": [
    "A = np.array([[3,1,0],\n",
    "              [0,0,1],\n",
    "              [0,4,3],\n",
    "              [1,0,0]])"
   ]
  },
  {
   "cell_type": "code",
   "execution_count": null,
   "id": "dfdcf8fb",
   "metadata": {},
   "outputs": [],
   "source": [
    "def is_symmetric(matrix, rows, cols):\n",
    "    for i in range(rows):\n",
    "        for j in range(cols):\n",
    "            if (matrix[i][j] != matrix[j][i]):\n",
    "                return False\n",
    "    return True"
   ]
  },
  {
   "cell_type": "code",
   "execution_count": null,
   "id": "8372262b",
   "metadata": {},
   "outputs": [],
   "source": [
    "def checking_having_symmetric(matrix):\n",
    "    if matrix.shape[0] < 3 and matrix.shape[1] < 3:\n",
    "        return 'En az 3x3 olmalidir.'\n",
    "    \n",
    "    else:\n",
    "        b = matrix.reshape(1,matrix.size)\n",
    "        b = np.ravel(b)\n",
    "        rows = 3\n",
    "        cols = 3\n",
    "        \n",
    "        for period in range(100):\n",
    "            mat = np.random.choice(b, size=(3,3))\n",
    "    \n",
    "            if (is_symmetric(mat, rows, cols)):\n",
    "                print()\n",
    "                print(\"Yes\")\n",
    "                print(mat)\n",
    "            else:\n",
    "                continue"
   ]
  },
  {
   "cell_type": "code",
   "execution_count": null,
   "id": "51b4f3bd",
   "metadata": {},
   "outputs": [],
   "source": [
    "checking_having_symmetric(A)"
   ]
  }
 ],
 "metadata": {
  "kernelspec": {
   "display_name": "Python 3",
   "language": "python",
   "name": "python3"
  },
  "language_info": {
   "codemirror_mode": {
    "name": "ipython",
    "version": 3
   },
   "file_extension": ".py",
   "mimetype": "text/x-python",
   "name": "python",
   "nbconvert_exporter": "python",
   "pygments_lexer": "ipython3",
   "version": "3.9.1"
  }
 },
 "nbformat": 4,
 "nbformat_minor": 5
}
